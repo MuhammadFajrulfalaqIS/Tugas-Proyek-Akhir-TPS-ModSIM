import numpy as np
import matplotlib.pyplot as plt
import pandas as pd
from tqdm import tqdm
import imageio
import os
import math


output_dir = 'gifs/tmp/'
if not os.path.exists(output_dir):
    os.makedirs(output_dir)

np.random.seed = 42

RANDOM_CONTACTS = 11
CHANCE_OF_INFECTION = 0.12
DAYS_CURED_AFTER = 21
DAYS_TO_DEATH = 10
CHANCE_OF_DEATH = 1.0/DAYS_TO_DEATH
N_EXPERIMENTS = 1
N_STEPS = 150
N_PATIENT_ZERO = 10
HEALTHCARE_NUM = 62
BED_RATIO = 2
HEALTHCARE_CAPACITY = 2 * N_AGENTS // 1000 * HEALTHCARE_NUM
print(np.ceil(HEALTHCARE_CAPACITY))


# Jumlah agen awal
jumlah_agen_awal = 1696366

# Hitung akar kuadrat dari jumlah agen awal
akar_kuadrat = math.sqrt(jumlah_agen_awal)

# Bulatkan hasil akar kuadrat ke atas dan ke bawah
bawah = math.floor(akar_kuadrat)
atas = math.ceil(akar_kuadrat)

# Tentukan bilangan bulat yang lebih dekat dengan jumlah agen awal
if abs(jumlah_agen_awal - (bawah * bawah)) < abs(jumlah_agen_awal - (atas * atas)):
    N_AGENTS = bawah * bawah
else:
    N_AGENTS = atas * atas

print("N_AGENTS:", N_AGENTS)

class MathModel:
    S = 0
    E = 0
    I = 0
    R = 0
    D = 0

    S_ = []
    E_ = []
    I_ = []
    R_ = []
    D_ = []

    beta = 0
    sigma = 0
    gamma = 0
    delta = 0

    def __init__(self, nAgents, nPatientZero, chanceOfInfection, randomContacts, daysCuredAfter, daysToDeath):
        self.chanceOfInfection = chanceOfInfection
        self.randomContacts = randomContacts
        self.daysCuredAfter = daysCuredAfter
        self.daysToDeath = daysToDeath

        self.S = nAgents - nPatientZero
        self.E = 0
        self.I = nPatientZero
        self.R = 0
        self.D = 0

        self.S_ = []
        self.E_ = []
        self.I_ = []
        self.R_ = []
        self.D_ = []

        # Contacts with 100% infection rate
        self.beta = self.chanceOfInfection * self.randomContacts

        # Rate from exposed to infectious
        self.sigma = 1.0 / 2

        # Recovery Rate
        self.gamma = 1.0 / self.daysCuredAfter

        # Death Rate
        self.delta = 1.0 / self.daysToDeath
        print("SEIRD Model initialized with:")
        print("Beta:", self.beta)
        print("Sigma:", self.sigma)
        print("Gamma:", self.gamma)
        print("Delta:", self.delta)

    def calculateStep(self):
        N = self.S + self.E + self.I + self.R + self.D
        S = self.S
        E = self.E
        I = self.I
        R = self.R
        D = self.D

        # Calculate the changing-factor for every variable
        newExposed = self.beta * S * I / N
        newInfected = self.sigma * E
        newRecovered = self.gamma * I
        newDead = self.delta * I

        # Update SEIRD for every step
        self.S = S - newExposed
        self.E = E + newExposed - newInfected
        self.I = I + newInfected - newRecovered - newDead
        self.R = R + newRecovered
        self.D = D + newDead
        self.S_.append(self.S)
        self.E_.append(self.E)
        self.I_.append(self.I)
        self.R_.append(self.R)
        self.D_.append(self.D)




def agentsDataframe():
 state = np.zeros(N_AGENTS)
 data = {"state":state}
 df = pd.DataFrame(data)
 df.describe()
 return df
df = agentsDataframe()

def infect(df, contacts, probability=1.0):
 unique, counts = np.unique(contacts, return_counts=True)
 roll = np.random.uniform(0,1,len(unique))
 state = df.loc[unique, "state"]
 probability = 1 - np.power(1-probability, counts)
 chance = np.array(roll <= probability).astype(int)
 df.loc[unique, "state"] = state + np.maximum(chance * (1-state),0)

def death(df, probability = CHANCE_OF_DEATH):
 roll = np.random.uniform(0,1,len(df[df["state"] == 1]))
 chance = np.array(roll <= probability).astype(int)
 df.loc[df["state"] == 1, "state"] = 1 + chance

def initAgents(nAgents = N_AGENTS, nPatientZero = N_PATIENT_ZERO):
 state = np.zeros(nAgents)
 neighborhood = np.zeros(nAgents)
 data = {"state":state, "neighborhood":neighborhood}
 df = pd.DataFrame(data)
 patientZero = np.random.choice(df.index, nPatientZero, replace=False)
 infect(df, patientZero, probability=1.0)
 return df


def plotSEIRDGraph(x, SEIRDModel, timestep, imgDir='gifs/tmp_seird'):
 plt.figure(figsize=(10, 6))
 plt.plot(x[:timestep+1], SEIRDModel.S_[:timestep+1], color="green", label="Susceptible - SEIRD")
 plt.plot(x[:timestep+1], SEIRDModel.E_[:timestep+1], color="purple", label="Exposed - SEIRD")
 plt.plot(x[:timestep+1], SEIRDModel.I_[:timestep+1], color="yellow", label="Infected - SEIRD")
 plt.plot(x[:timestep+1], SEIRDModel.R_[:timestep+1], color="blue", label="Recovered - SEIRD")
 plt.plot(x[:timestep+1], SEIRDModel.D_[:timestep+1], color="red", label="Death - SEIRD")
 plt.plot(x, ([HEALTHCARE_CAPACITY] * len(x)), color="black", label="Healthcare Capacity")
 plt.xlabel("Time steps [days]")
 plt.ylabel("Number of cases")

 plt.legend(loc="upper right")
 plt.title(f"SEIRD Model at Timestep {timestep}")
 plt.savefig(f"{imgDir}/seird_{timestep:03d}.png")
 plt.close()

def neighborhoodLattice(df, nRandomContacts=0):
    sideLength = int(np.sqrt(len(df)))
    N = np.array((df.index - sideLength) % len(df)).astype(int)
    E = np.array(np.floor(df.index / sideLength)*sideLength + (df.index % sideLength + 1) % sideLength).astype(int)
    S = np.array((df.index + sideLength) % len(df)).astype(int)
    W = np.array(np.floor(df.index / sideLength)*sideLength + (df.index % sideLength - 1) % sideLength).astype(int)

    NE = np.array((E - sideLength) % len(df)).astype(int)
    SE = np.array((E + sideLength) % len(df)).astype(int)
    SW = np.array((W + sideLength) % len(df)).astype(int)
    NW = np.array((W - sideLength) % len(df)).astype(int)

    res = [N,E,S,W,NE,SE,SW,NW]

    for i in range(0,nRandomContacts):
        res.append(np.random.choice(df.index, len(df), replace=True))

    res = np.array(res).T
    return dict(zip(df.index, res))


def step(df, mode='random', neighborhood=None):
    nInfected = np.sum(df["state"] == 1)
    contacts = []
    if mode == 'random':
        contacts = np.random.choice(df.index, RANDOM_CONTACTS * nInfected, replace=True)
    elif mode == 'lattice':
        assert np.floor(np.sqrt(len(df))) * np.floor(np.sqrt(len(df))) == len(df)

        contacts = [neighborhood[i] for i in df[df["state"] == 2].index]
        contacts = np.array(contacts).flatten()

    infect(df, contacts, CHANCE_OF_INFECTION)
    death(df, CHANCE_OF_DEATH)

def plot_lattice(df, stepNum):
    sideLength = int(np.sqrt(len(df)))
    a = np.array(df["state"] + df["state"]*(2-df["state"]) + df["state"]/2*(1-df["state"])).reshape(sideLength, sideLength)
    plt.imshow(a)
    plt.title("Time step {:03d}".format(stepNum))
    plt.axis('off')
    plt.savefig("gifs/tmp/{:03d}.png".format(stepNum))

def simulate(df, nSteps=100, mode="random", nRandomContacts=0):
    neighborhood = neighborhoodLattice(df, nRandomContacts)

    for i in tqdm(range(nSteps)):
        step(df, mode, neighborhood)
        plot_lattice(df, i)

        # Hitung jumlah individu dalam setiap status dan update nilai-nilai dalam dictionary st
        nInfected = np.sum(df["state"] == 1)
        nRemoved = np.sum(df["state"] == 3) + np.sum(df["state"] == 4)
        nSusceptible = np.sum(df["state"] == 0)
        nExposed = np.sum(df["state"] == 2)
        nDeath = np.sum(df["state"] == 4)

        st["nInfected"].append(nInfected)
        st["nRemoved"].append(nRemoved)
        st["nSusceptible"].append(nSusceptible)
        st["nExposed"].append(nExposed)
        st["nDeath"].append(nDeath)


x = np.linspace(0, N_STEPS-1, N_STEPS)
allStats = []

SEIRDModel = MathModel(N_AGENTS, N_PATIENT_ZERO, CHANCE_OF_INFECTION, RANDOM_CONTACTS, DAYS_CURED_AFTER, DAYS_TO_DEATH)

print("Simulate SEIRD Model")
for _ in tqdm(range(N_STEPS)):
    SEIRDModel.calculateStep()

for i in range(N_EXPERIMENTS):
    print("Starting Experiment:", i+1, "/", N_EXPERIMENTS)
    df = initAgents(N_AGENTS)
    st = {"nInfected": [], "nRemoved": [], "nSusceptible": [], "nExposed":[], "nDeath":[]}
    simulate(df, nSteps=N_STEPS, mode="lattice", nRandomContacts=RANDOM_CONTACTS)

    allStats.append(st)

def plotSEIRDGraph(x, SEIRDModel, figName="GraphResult.png"):
    plt.plot(x,SEIRDModel.S_, color = "green", label="Susceptible - SEIRD")
    plt.plot(x,SEIRDModel.E_, color = "purple", label="Exposed - SEIRD")
    plt.plot(x,SEIRDModel.I_, color = "yellow", label="Infected - SEIRD")
    plt.plot(x,SEIRDModel.R_, color = "blue", label="Recovered - SEIRD")
    plt.plot(x,SEIRDModel.D_, color = "red", label="Death - SEIRD")
    plt.xlabel("Time steps [days]")
    plt.ylabel("Number of cases")

    healthcare_capacity_array = np.full_like(x, HEALTHCARE_CAPACITY)
    plt.plot(x, healthcare_capacity_array, color="black", label="Healthcare Capacity")

    lgd = plt.legend(loc="upper right")
    plt.savefig(figName, bbox_extra_artists=(lgd,), bbox_inches='tight')

    plt.show()

plotSEIRDGraph(x, SEIRDModel)

def createGif(imgDir='gifs/tmp', gifName="result.gif"):
    images = []
    for fileName in sorted(os.listdir(imgDir)):
        if fileName.endswith('.png'):
            filePath = os.path.join(imgDir, fileName)
            images.append(imageio.imread(filePath))
            if len(images) == 78:
                break
    imageio.mimsave(gifName, images, duration=0.1)

createGif()

import numpy as np
import matplotlib.pyplot as plt
from matplotlib.animation import FuncAnimation
from IPython.display import HTML
from matplotlib.colors import ListedColormap
from matplotlib.lines import Line2D

# Parameter model
beta = 0.3  # Rate of infection per susceptible and infected individual
sigma = 0.1  # Rate of incubation (inverse of incubation period)
gamma = 0.1  # Rate of recovery

# Jumlah populasi
N = 1000

# Durasi untuk setiap status
incubation_period = 7
infected_period = 20

# Inisialisasi status individu
# 0: Susceptible, 1: Exposed, 2: Infected, 3: Dead, 4: Recovered
status = np.zeros(N)

# Waktu terinfeksi untuk tracking exposed dan infected
infection_time = np.zeros(N)

# Jumlah individu di setiap status pada awalnya
initial_infected = 5
status[:initial_infected] = 2
infection_time[:initial_infected] = 1

# Posisi individu
positions = np.random.rand(N, 2)

# Kecepatan individu
velocities = (np.random.rand(N, 2) - 0.5) * 0.1

# Fungsi untuk update status
def update_status():
    global status, infection_time
    for i in range(N):
        if status[i] == 0:  # Susceptible
            neighbors = np.linalg.norm(positions - positions[i], axis=1) < 0.05
            if np.any(status[neighbors] == 2):
                if np.random.rand() < beta:
                    status[i] = 1  # Menjadi Exposed
                    infection_time[i] = 0
        elif status[i] == 1:  # Exposed
            infection_time[i] += 1
            if infection_time[i] >= incubation_period:
                status[i] = 2  # Menjadi Infected
                infection_time[i] = 0
        elif status[i] == 2:  # Infected
            infection_time[i] += 1
            if infection_time[i] >= infected_period:
                if np.random.rand() < gamma:
                    status[i] = 4  # Menjadi Recovered
                else:
                    status[i] = 3  # Menjadi Dead

# Fungsi untuk update posisi
def update_positions():
    global positions
    positions += velocities
    positions = np.clip(positions, 0, 1)
    for i in range(N):
        if positions[i][0] == 0 or positions[i][0] == 1:
            velocities[i][0] *= -1
        if positions[i][1] == 0 or positions[i][1] == 1:
            velocities[i][1] *= -1

# Setup plot
fig, ax = plt.subplots()
cmap = ListedColormap(['green', 'purple', 'red', 'black', 'blue'])
scat = ax.scatter(positions[:, 0], positions[:, 1], c=status, cmap=cmap, s=10)
ax.set_xlim(0, 1)
ax.set_ylim(0, 1)

# Menambahkan legenda
legend_elements = [Line2D([0], [0], marker='o', color='w', markerfacecolor='green', markersize=10, label='Susceptible'),
                   Line2D([0], [0], marker='o', color='w', markerfacecolor='purple', markersize=10, label='Exposed'),
                   Line2D([0], [0], marker='o', color='w', markerfacecolor='red', markersize=10, label='Infected'),
                   Line2D([0], [0], marker='o', color='w', markerfacecolor='black', markersize=10, label='Dead'),
                   Line2D([0], [0], marker='o', color='w', markerfacecolor='blue', markersize=10, label='Recovered')]
ax.legend(handles=legend_elements, loc='upper right')

# Fungsi untuk animasi
def animate(frame):
    update_status()
    update_positions()
    scat.set_offsets(positions)
    scat.set_array(status)
    return scat,

# Membuat animasi
ani = FuncAnimation(fig, animate, frames=200, interval=50, blit=True)

# Menampilkan animasi di Jupyter Notebook
HTML(ani.to_jshtml())


ani.save('animasi.mp4', writer='ffmpeg', fps=30)
